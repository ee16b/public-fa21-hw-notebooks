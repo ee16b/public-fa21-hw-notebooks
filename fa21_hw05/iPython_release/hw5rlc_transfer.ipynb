{
 "cells": [
  {
   "cell_type": "markdown",
   "metadata": {
    "scrolled": false
   },
   "source": [
    "# Frequency domain solution for HW5, Q7 - Fall 2021\n",
    "This notebook creates a Bode plot for the magnitude of the transfer function for the RLC series circuit.\n",
    "It also plots the eigenvalues and allows the user to change values of R, L, and C interactively.\n",
    "\n",
    "Figure 1: Log-log plot of $|H(jw)|$\n",
    "\n",
    "Figure 2: Eigenvalues the circuit"
   ]
  },
  {
   "cell_type": "code",
   "execution_count": null,
   "metadata": {
    "scrolled": false
   },
   "outputs": [],
   "source": [
    "%matplotlib notebook\n",
    "from ipywidgets import interactive, widgets\n",
    "import math\n",
    "import matplotlib.pyplot as plt\n",
    "import numpy as np\n",
    "\n",
    "def eigval(R, L, C):\n",
    "    if R > 2 * math.sqrt(L / C):\n",
    "        l1 = (-R / (2 * L)) + math.sqrt((R / (2 * L)) ** 2 - 1 / (L * C))\n",
    "        l2 = (-R / (2 * L)) - math.sqrt((R / (2 * L)) ** 2 - 1 / (L * C))\n",
    "    else:\n",
    "        l1 = (-R / (2 * L)) + 1j * math.sqrt(1 / (L * C) - (R / (2 * L)) ** 2)\n",
    "        l2 = (-R / (2 * L)) - 1j * math.sqrt(1 / (L * C) - (R / (2 * L)) ** 2)\n",
    "    return l1, l2\n",
    "\n",
    "def H_omega_mag(w, R, L, C): # magnitude of the transfer function H(w)\n",
    "    \"\"\"\n",
    "        |H(w)| = sqrt(R ** 2 + (w * L - 1 / (w * C)) ** 2)\n",
    "    \"\"\"\n",
    "    # Transfer function magnitude\n",
    "    return 1 / np.sqrt(1 + (1 / R ** 2) * (w * L - (1 / (w * C))) ** 2)\n",
    "\n",
    "w = np.logspace(2, 10, 1000)\n",
    "R = 1\n",
    "C = 10e-9 # 10nF\n",
    "L = 25e-6 # 25uH\n",
    "f0 = 1 / np.sqrt(L * C) / (2 * np.pi)\n",
    "alpha = R / (2 * L)\n",
    "\n",
    "# Create subplots\n",
    "fig, (ax1, ax2) = plt.subplots(1, 2, figsize=(10, 5))\n",
    "fig.subplots_adjust(wspace=0.5)\n",
    "\n",
    "# Plot |H(w)|\n",
    "l, = ax1.loglog(w, H_omega_mag(w, R, L, C), linewidth=1, color='red', linestyle='-')\n",
    "ax1.grid(linestyle='-.', linewidth=0.5)\n",
    "ax1.set_xlim([1e2, 1e10])\n",
    "ax1.set_ylim([1e-6, 1e1])\n",
    "ax1.set_xlabel('Frequency $\\omega$ (radians)')\n",
    "ax1.set_ylabel('$|H(j\\omega)|$')\n",
    "ax1.set_title('Magnitude of $H(j\\omega)$')\n",
    "\n",
    "# Plot eigenvalues and unit circle\n",
    "eigenvalues = eigval(R, L, C)\n",
    "eig1, = ax2.plot(np.real(eigenvalues[0]), np.imag(eigenvalues[0]), linestyle='None', marker='x', label=\"Eigenvalues\")\n",
    "eig2, = ax2.plot(np.real(eigenvalues[1]), np.imag(eigenvalues[1]), linestyle='None', marker='x', label=\"Eigenvalues\")\n",
    "\n",
    "# Add grid, labels, legend\n",
    "ax2.grid(linestyle='-.', linewidth=0.5)\n",
    "ax2.ticklabel_format(style='sci', scilimits=(-2, 2))\n",
    "ax2.set_yscale(\"symlog\")\n",
    "ax2.set_xscale(\"symlog\")\n",
    "ax2.set_xlim([-2e12, 0])\n",
    "ax2.set_ylim([-2e9, 2e9])\n",
    "ax2.set_xlabel('Real')\n",
    "ax2.set_ylabel('Imaginary')\n",
    "ax2.legend([f\"$\\lambda_1 = {eigenvalues[0]:.1e}$\", f\"$\\lambda_2 = {eigenvalues[1]:.1e}$\"], title=\"Eigenvalues of RLC DE\", loc=\"upper center\", bbox_to_anchor=(0.5, 1.25))\n",
    "plt.tight_layout()\n",
    "\n",
    "\n",
    "# Main update function for plot\n",
    "def update(R=1, L=25e-6, C=10e-9):\n",
    "    eigenvalues = eigval(R, L, C)\n",
    "    l.set_ydata(H_omega_mag(w, R, L, C))\n",
    "    eig1.set_xdata(np.real(eigenvalues[0]))\n",
    "    eig2.set_xdata(np.real(eigenvalues[1]))\n",
    "    eig1.set_ydata(np.imag(eigenvalues[0]))\n",
    "    eig2.set_ydata(np.imag(eigenvalues[1]))\n",
    "    ax2.legend([f\"$\\lambda_1 = {eigenvalues[0]:.1e}$\", f\"$\\lambda_2 = {eigenvalues[1]:.1e}$\"], title=\"Eigenvalues of RLC DE\", loc=\"upper center\", bbox_to_anchor=(0.5, 1.25))\n",
    "    fig.canvas.draw_idle()\n",
    "\n",
    "\n",
    "# Include sliders for relevant quantities\n",
    "R_slider = widgets.FloatLogSlider(value=1.0, base=10, min=-1, max=4, step=.05, description=\"R (Ω)\")\n",
    "L_slider = widgets.FloatLogSlider(value=25e-6, min=-8, max=-4, step=.05, description=\"L (H)\", readout_format=\".1e\")\n",
    "C_slider = widgets.FloatLogSlider(value=10e-9, min=-10, max=-4, step=.05, description=\"C (F)\", readout_format=\".1e\")\n",
    "interactive(update, \n",
    "            R=R_slider,\n",
    "            L=L_slider,\n",
    "            C=C_slider)"
   ]
  },
  {
   "cell_type": "markdown",
   "metadata": {},
   "source": [
    "## CHANGELOG\n",
    "- 2019/09/22: initial version (code based on fa19hw3)\n",
    "- 2021/02/25: fixed eigen values\n",
    "- 2021/09/21: changed to use ipywidgets"
   ]
  }
 ],
 "metadata": {
  "anaconda-cloud": {},
  "kernelspec": {
   "display_name": "Python 3 (ipykernel)",
   "language": "python",
   "name": "python3"
  },
  "language_info": {
   "codemirror_mode": {
    "name": "ipython",
    "version": 3
   },
   "file_extension": ".py",
   "mimetype": "text/x-python",
   "name": "python",
   "nbconvert_exporter": "python",
   "pygments_lexer": "ipython3",
   "version": "3.8.10"
  }
 },
 "nbformat": 4,
 "nbformat_minor": 2
}
