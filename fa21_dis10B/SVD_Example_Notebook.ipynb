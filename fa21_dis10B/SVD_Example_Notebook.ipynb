{
 "cells": [
  {
   "cell_type": "markdown",
   "metadata": {},
   "source": [
    "### This notebook is used to calculate the full SVD for Discussion 10B, Problem 1.\n",
    "\n",
    "### You can use it to see how to compute the SVD using NumPy and interpret the results."
   ]
  },
  {
   "cell_type": "code",
   "execution_count": null,
   "metadata": {},
   "outputs": [],
   "source": [
    " import numpy as np"
   ]
  },
  {
   "cell_type": "code",
   "execution_count": null,
   "metadata": {},
   "outputs": [],
   "source": [
    "def print_full_svd(M: np.array):\n",
    "    U, Sigma, VT = np.linalg.svd(M, full_matrices=True) # full_matrices=False gets the compact SVD\n",
    "    print(\"U:\")\n",
    "    print(U)\n",
    "    print(\"Sigma:\")\n",
    "    print(np.diag(Sigma))\n",
    "    print(\"V:\")\n",
    "    print(VT.T)"
   ]
  },
  {
   "cell_type": "code",
   "execution_count": null,
   "metadata": {},
   "outputs": [],
   "source": [
    "A = np.array([[1, -1], [-2, 2], [2, -2]])\n",
    "print_full_svd(A)"
   ]
  },
  {
   "cell_type": "markdown",
   "metadata": {},
   "source": [
    "**Contributors**:\n",
    "- Druv Pai\n",
    "- Neelesh Ramachandran"
   ]
  },
  {
   "cell_type": "code",
   "execution_count": null,
   "metadata": {},
   "outputs": [],
   "source": []
  }
 ],
 "metadata": {
  "kernelspec": {
   "display_name": "Python 3",
   "language": "python",
   "name": "python3"
  },
  "language_info": {
   "codemirror_mode": {
    "name": "ipython",
    "version": 3
   },
   "file_extension": ".py",
   "mimetype": "text/x-python",
   "name": "python",
   "nbconvert_exporter": "python",
   "pygments_lexer": "ipython3",
   "version": "3.8.5"
  }
 },
 "nbformat": 4,
 "nbformat_minor": 4
}
