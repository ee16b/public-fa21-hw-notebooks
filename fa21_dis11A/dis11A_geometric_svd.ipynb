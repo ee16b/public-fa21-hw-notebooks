{
 "cells": [
  {
   "cell_type": "markdown",
   "metadata": {},
   "source": [
    " # Discussion 11A, Fall 2021\n",
    " ## Helper Notebook for SVD Calculations & Geometric intuitions\n"
   ]
  },
  {
   "cell_type": "code",
   "execution_count": 1,
   "metadata": {},
   "outputs": [],
   "source": [
    "import numpy as np\n",
    "from math import cos, sin, pi, sqrt\n",
    "import matplotlib\n",
    "matplotlib.use('agg')\n",
    "from mpl_toolkits.mplot3d import Axes3D\n",
    "import matplotlib.pyplot as plt\n",
    "from scipy.cluster.vq import vq, kmeans, whiten\n",
    "\n",
    "from matplotlib.animation import FuncAnimation\n",
    "from matplotlib.widgets import Slider\n",
    "\n",
    "%matplotlib widget\n",
    "\n",
    "# seed the pseudo random number generator with 0 \n",
    "# so that the results are consistent in all discussion sections\n",
    "np.random.seed(0)\n",
    "\n",
    "import IPython\n",
    "from ipywidgets import interactive, widgets\n",
    "from IPython.display import display, HTML"
   ]
  },
  {
   "cell_type": "markdown",
   "metadata": {},
   "source": [
    "## Question 1  ; Geometric intuitions for SVD"
   ]
  },
  {
   "cell_type": "markdown",
   "metadata": {},
   "source": [
    "The following code helps visualize how different components of the SVD, namely U, $\\Sigma$ (E here) and $V^\\top$ act on 2D and 3D spaces."
   ]
  },
  {
   "cell_type": "code",
   "execution_count": 2,
   "metadata": {},
   "outputs": [],
   "source": [
    "class LinearTransform():\n",
    "    \"\"\"\n",
    "    Apply linear transformation for given dimensions.\n",
    "    \n",
    "    Args:\n",
    "        input_dims : #dims for space we're visualizing. Supports [2, 3]\n",
    "    \"\"\"\n",
    "    \n",
    "    def __init__(self, input_dims=2, num_points=40):\n",
    "        self.input_dims = input_dims\n",
    "        self.num_points = num_points\n",
    "        self.plotter = self._get_plotter()\n",
    "        self.points = self._gen_points()\n",
    "        \n",
    "    def _gen_points(self):\n",
    "        if self.input_dims == 2:\n",
    "            points = self._gen_unit_circle()\n",
    "        elif self.input_dims == 3:\n",
    "            points = self._gen_unit_sphere()\n",
    "        return points\n",
    "            \n",
    "    def _gen_unit_circle(self):\n",
    "        theta = np.linspace(0, 2*np.pi, self.num_points)\n",
    "        x = np.cos(theta)\n",
    "        y = np.sin(theta)\n",
    "        return np.concatenate([[x], [y]], axis=0)\n",
    "    \n",
    "    def _gen_unit_sphere(self):\n",
    "        phi, theta = np.meshgrid(np.linspace(0, 2*np.pi, self.num_points), np.linspace(0, 2*np.pi, self.num_points))\n",
    "        x = np.cos(phi) * np.sin(theta)\n",
    "        y = np.sin(phi) * np.sin(theta)\n",
    "        z = np.cos(theta)\n",
    "        return np.concatenate([[x], [y], [z]], axis=0)\n",
    "\n",
    "    def _clear_plot(self):\n",
    "        fig = plt.figure(figsize=(10, 10))\n",
    "        if self.input_dims == 2:\n",
    "            self.ax = fig.add_subplot(111)\n",
    "        else:\n",
    "            self.ax = fig.add_subplot(111, projection='3d')\n",
    "\n",
    "    def _get_plotter(self):\n",
    "        if self.input_dims == 2:\n",
    "            return self.plot2d\n",
    "        elif self.input_dims == 3:\n",
    "            return self.plot3d\n",
    "\n",
    "    def plot2d(self, points, axlim=None, label='circle'):\n",
    "        pplot = self.ax.plot(points[0], points[1], label=label)\n",
    "        maxval = np.max(np.abs(points))\n",
    "        if axlim is None:\n",
    "            axlim = maxval\n",
    "        self.ax.set_xlim(-axlim, axlim)\n",
    "        self.ax.set_ylim(-axlim, axlim)\n",
    "        self.ax.grid()\n",
    "\n",
    "    def plot3d(self, points, axlim=None, label='sphere'):\n",
    "        pplot = self.ax.plot_surface(points[0], points[1], points[2],  cmap='autumn', alpha=0.25, label=label)\n",
    "        pplot._facecolors2d=pplot._facecolor3d\n",
    "        pplot._edgecolors2d=pplot._edgecolor3d\n",
    "        maxval = np.max(np.abs(points))\n",
    "        if axlim is None:\n",
    "            axlim = maxval\n",
    "        self.ax.set_xlim(-axlim, axlim)\n",
    "        self.ax.set_ylim(-axlim, axlim)\n",
    "        self.ax.set_zlim(-axlim, axlim)\n",
    "        self.ax.set_xlabel('$x$', fontsize=30, rotation = 0)\n",
    "        self.ax.set_ylabel('$y$', fontsize=30, rotation = 0)\n",
    "        self.ax.set_zlabel('$z$', fontsize=30, rotation = 0)\n",
    "    \n",
    "    def __call__(self, A=None, with_basis=True, label='circle', axlim=3):\n",
    "        if A is None:\n",
    "            A = np.eye(self.input_dims)\n",
    "        points = self.points.reshape(self.input_dims, -1)\n",
    "        transformed_points = A @ points\n",
    "        points = transformed_points.reshape(self.points.shape)\n",
    "        self.plot(points, axlim=axlim, label=label)\n",
    "        \n",
    "        if with_basis:\n",
    "            basis = self.get_basis_vectors()\n",
    "            transformed_basis = A @ basis\n",
    "            self.plot_vectors(transformed_basis.T)\n",
    "        plt.legend()\n",
    "    \n",
    "    def plot(self, points=None, axlim=None, label='circle', clear=True):\n",
    "        if clear:\n",
    "            self._clear_plot()\n",
    "        if points is None:\n",
    "            points = self.points\n",
    "        self.plotter(points, axlim=axlim, label=label)\n",
    "        # return self.ax\n",
    "        \n",
    "    def get_basis_vectors(self):\n",
    "        eye = np.eye(self.input_dims)\n",
    "        return eye[:self.input_dims]\n",
    "    \n",
    "    def plot_vectors(self, vectors, prefix=\"e\"):\n",
    "        colors = plt.cm.get_cmap('winter', self.input_dims)\n",
    "        for idx, vec in enumerate(vectors):\n",
    "            points = np.concatenate([[vec], [np.zeros(self.input_dims)]], axis=0).T\n",
    "            self.ax.plot(*points, color=colors(idx), label=r\"${}_{}$\".format(prefix, idx+1), linewidth=3)\n",
    "        plt.legend()\n",
    "            "
   ]
  },
  {
   "cell_type": "code",
   "execution_count": 3,
   "metadata": {},
   "outputs": [
    {
     "data": {
      "application/vnd.jupyter.widget-view+json": {
       "model_id": "07296e008d7c4c4793a371898128baf1",
       "version_major": 2,
       "version_minor": 0
      },
      "text/html": [
       "\n",
       "            <div style=\"display: inline-block;\">\n",
       "                <div class=\"jupyter-widgets widget-label\" style=\"text-align: center;\">\n",
       "                    Figure\n",
       "                </div>\n",
       "                <img src='data:image/png;base64,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' width=1000.0/>\n",
       "            </div>\n",
       "        "
      ],
      "text/plain": [
       "Canvas(toolbar=Toolbar(toolitems=[('Home', 'Reset original view', 'home', 'home'), ('Back', 'Back to previous …"
      ]
     },
     "metadata": {},
     "output_type": "display_data"
    }
   ],
   "source": [
    "# change the input_dims to 3 for 3D projections\n",
    "transform = LinearTransform(input_dims=2)\n",
    "transform(label=\"circle\")"
   ]
  },
  {
   "cell_type": "code",
   "execution_count": 4,
   "metadata": {},
   "outputs": [
    {
     "data": {
      "application/vnd.jupyter.widget-view+json": {
       "model_id": "d9d90415881a4efb9854137b36c7bc87",
       "version_major": 2,
       "version_minor": 0
      },
      "text/html": [
       "\n",
       "            <div style=\"display: inline-block;\">\n",
       "                <div class=\"jupyter-widgets widget-label\" style=\"text-align: center;\">\n",
       "                    Figure\n",
       "                </div>\n",
       "                <img src='data:image/png;base64,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' width=1000.0/>\n",
       "            </div>\n",
       "        "
      ],
      "text/plain": [
       "Canvas(toolbar=Toolbar(toolitems=[('Home', 'Reset original view', 'home', 'home'), ('Back', 'Back to previous …"
      ]
     },
     "metadata": {},
     "output_type": "display_data"
    }
   ],
   "source": [
    "A2D = np.array([\n",
    "    # ----- YOUR CODE HERE ----- #\n",
    "    [0, -1],\n",
    "    [3, 0]\n",
    "])\n",
    "\n",
    "A3D = np.array([\n",
    "    [1, 2, -1],\n",
    "    [1, 1, 0],\n",
    "    [0, -1, 1]])\n",
    "\n",
    "points = transform(A2D, label='A * circle')"
   ]
  },
  {
   "cell_type": "code",
   "execution_count": 5,
   "metadata": {},
   "outputs": [
    {
     "name": "stdout",
     "output_type": "stream",
     "text": [
      "U: \n",
      "[[ 0. -1.]\n",
      " [-1.  0.]]\n",
      "\n",
      "Sigma: \n",
      "[[3. 0.]\n",
      " [0. 1.]]\n",
      "\n",
      "V.T: \n",
      "[[-1. -0.]\n",
      " [ 0.  1.]]\n",
      "\n"
     ]
    }
   ],
   "source": [
    "U,s,VT = np.linalg.svd(A2D)\n",
    "E = np.diag(s) # this only works for square matrices. Other matrices will need to pad with zeros\n",
    "\n",
    "print(f\"U: \\n{U}\\n\")\n",
    "print(f\"Sigma: \\n{E}\\n\")\n",
    "print(f\"V.T: \\n{VT}\\n\")"
   ]
  },
  {
   "cell_type": "code",
   "execution_count": 23,
   "metadata": {},
   "outputs": [
    {
     "data": {
      "application/vnd.jupyter.widget-view+json": {
       "model_id": "8a5ab84497244523bf75c53823ed1cb0",
       "version_major": 2,
       "version_minor": 0
      },
      "text/plain": [
       "Canvas(toolbar=Toolbar(toolitems=[('Home', 'Reset original view', 'home', 'home'), ('Back', 'Back to previous …"
      ]
     },
     "metadata": {},
     "output_type": "display_data"
    }
   ],
   "source": [
    "transform(VT, label=r\"$V^\\top Circle$\")"
   ]
  },
  {
   "cell_type": "code",
   "execution_count": 24,
   "metadata": {},
   "outputs": [
    {
     "data": {
      "application/vnd.jupyter.widget-view+json": {
       "model_id": "5445df9be2f44fe0b1323988db53404c",
       "version_major": 2,
       "version_minor": 0
      },
      "text/plain": [
       "Canvas(toolbar=Toolbar(toolitems=[('Home', 'Reset original view', 'home', 'home'), ('Back', 'Back to previous …"
      ]
     },
     "metadata": {},
     "output_type": "display_data"
    }
   ],
   "source": [
    "transform(E, label='E*circle')"
   ]
  },
  {
   "cell_type": "code",
   "execution_count": 25,
   "metadata": {},
   "outputs": [
    {
     "data": {
      "application/vnd.jupyter.widget-view+json": {
       "model_id": "b57e265c2d2748a6b88f5608375182c8",
       "version_major": 2,
       "version_minor": 0
      },
      "text/plain": [
       "Canvas(toolbar=Toolbar(toolitems=[('Home', 'Reset original view', 'home', 'home'), ('Back', 'Back to previous …"
      ]
     },
     "metadata": {},
     "output_type": "display_data"
    }
   ],
   "source": [
    "transform(E@VT, label=r\"$EV^\\top$ circle\")"
   ]
  },
  {
   "cell_type": "code",
   "execution_count": 26,
   "metadata": {},
   "outputs": [
    {
     "data": {
      "application/vnd.jupyter.widget-view+json": {
       "model_id": "88c749bca79e4914b6dae3419df80859",
       "version_major": 2,
       "version_minor": 0
      },
      "text/plain": [
       "Canvas(toolbar=Toolbar(toolitems=[('Home', 'Reset original view', 'home', 'home'), ('Back', 'Back to previous …"
      ]
     },
     "metadata": {},
     "output_type": "display_data"
    }
   ],
   "source": [
    "transform(U, label=\"U circle\")"
   ]
  },
  {
   "cell_type": "code",
   "execution_count": 27,
   "metadata": {},
   "outputs": [
    {
     "data": {
      "application/vnd.jupyter.widget-view+json": {
       "model_id": "75040b3fa3f14c579d094dad52b35f21",
       "version_major": 2,
       "version_minor": 0
      },
      "text/plain": [
       "Canvas(toolbar=Toolbar(toolitems=[('Home', 'Reset original view', 'home', 'home'), ('Back', 'Back to previous …"
      ]
     },
     "metadata": {},
     "output_type": "display_data"
    }
   ],
   "source": [
    "transform(U @ E @ VT, label=r\"$UEV\\top$ circle\")"
   ]
  },
  {
   "cell_type": "code",
   "execution_count": 28,
   "metadata": {},
   "outputs": [
    {
     "data": {
      "application/vnd.jupyter.widget-view+json": {
       "model_id": "dfdb346409b14312bba89e07862c9c79",
       "version_major": 2,
       "version_minor": 0
      },
      "text/plain": [
       "Canvas(toolbar=Toolbar(toolitems=[('Home', 'Reset original view', 'home', 'home'), ('Back', 'Back to previous …"
      ]
     },
     "metadata": {},
     "output_type": "display_data"
    }
   ],
   "source": [
    "transform(A2D, with_basis=False)\n",
    "transform.plot_vectors((U@E).T, prefix=r\"(U\\Sigma)\")"
   ]
  },
  {
   "cell_type": "markdown",
   "metadata": {},
   "source": [
    "Contributors: \n",
    "- Neelesh Ramachandran\n",
    "- Kareem Ahmad\n",
    "- Kumar Krishna Agrawal\n"
   ]
  },
  {
   "cell_type": "code",
   "execution_count": null,
   "metadata": {},
   "outputs": [],
   "source": []
  },
  {
   "cell_type": "code",
   "execution_count": null,
   "metadata": {},
   "outputs": [],
   "source": []
  }
 ],
 "metadata": {
  "interpreter": {
   "hash": "e872e7000695ec7333b3a0f2e6eec865f0711451970c9fd552ea3ffbb35a9fcb"
  },
  "kernelspec": {
   "display_name": "Python 3 (ipykernel)",
   "language": "python",
   "name": "python3"
  },
  "language_info": {
   "codemirror_mode": {
    "name": "ipython",
    "version": 3
   },
   "file_extension": ".py",
   "mimetype": "text/x-python",
   "name": "python",
   "nbconvert_exporter": "python",
   "pygments_lexer": "ipython3",
   "version": "3.8.0"
  }
 },
 "nbformat": 4,
 "nbformat_minor": 4
}
