{
 "cells": [
  {
   "cell_type": "markdown",
   "source": [
    "# Transfer Function Plot Generation\n",
    "\n",
    "### **DISCLAIMER: This is not required. You can generate plots however you would like. This notebook is only here to help you.**"
   ],
   "metadata": {}
  },
  {
   "cell_type": "markdown",
   "source": [
    "You will notice that throughout the discussion and homework assignment, you are asked to plot transfer functions. This Jupyter Notebook will help you do just that!\n",
    "\n",
    "Recall that for any transfer function $H(j\\omega)$, the function takes in angular frequencies $\\omega \\in \\mathbb{R}$ and will output a complex number $H(j\\omega) \\in \\mathbb{C}$. For this reason, we need two plots to describe $H(j\\omega)$. The first plot is the magnitude $|H(j\\omega)|$. The second plot is the phase $\\measuredangle H(j\\omega)$.\n",
    "\n",
    "In order to implement this, we have one general function `plot_tf` that will make the plots. See the documentation and example below to use it. "
   ],
   "metadata": {}
  },
  {
   "cell_type": "code",
   "execution_count": null,
   "source": [
    "import numpy as np\n",
    "import matplotlib.pyplot as plt\n",
    "\n",
    "# This function will generate the magnitude (and optionally the phase) \n",
    "# of the inputed transfer function. \n",
    "# Inputs: \n",
    "#     H (function) - The transfer function of interest\n",
    "#     w_range (length 2 tuple) - The function will plot w in [10 ** w_range[0], 10 ** w_range[1]]\n",
    "#     phase (boolean) - Default is false, optionally plots the phase response\n",
    "# Outputs:\n",
    "#     None, just plots the function.\n",
    "def plot_tf(H, w_range, phase=False):\n",
    "    w = np.logspace(w_range[0], w_range[1], num=1000)\n",
    "    \n",
    "    plt.grid()\n",
    "    plt.title('Magnitude Plot: $|H(j\\omega)|$')\n",
    "    plt.xlabel('$\\omega$')\n",
    "    plt.ylabel('$|H(j\\omega)|$')\n",
    "    plt.loglog(w, np.abs(H(w)))\n",
    "    \n",
    "    if phase:\n",
    "        plt.figure()\n",
    "        plt.grid()\n",
    "        plt.title('Phase Plot: Phase of $H(j\\omega)$')\n",
    "        plt.xlabel('$\\omega$')\n",
    "        plt.ylabel('$\\measuredangle H(j\\omega)$')\n",
    "        plt.semilogx(w, np.angle(H(w)) * 180 / np.pi)"
   ],
   "outputs": [],
   "metadata": {}
  },
  {
   "cell_type": "code",
   "execution_count": null,
   "source": [
    "# EXAMPLE: Let's plot w in the range 10 ** -2 to 10 ** 5:\n",
    "\n",
    "# Define your transfer function\n",
    "def H_example(w):\n",
    "    return 1 / (1 + 1j * w)\n",
    "\n",
    "#Pass in your transfer function and the log range to plot_tf\n",
    "plot_tf(H_example, (-2, 5), phase=True)"
   ],
   "outputs": [],
   "metadata": {}
  },
  {
   "cell_type": "markdown",
   "source": [
    "# 4c: Color Organ Filter Design"
   ],
   "metadata": {}
  },
  {
   "cell_type": "markdown",
   "source": [
    "Populate the **TODO** in these methods using your values of $R_L$ and $R_H$ in parts 4a and 4b."
   ],
   "metadata": {}
  },
  {
   "cell_type": "code",
   "execution_count": null,
   "source": [
    "#Define the transfer function from 3c\n",
    "def H_color_organ(w):\n",
    "    ######## TODO START ########\n",
    "    R_L = 1\n",
    "    C_L = 1e-6\n",
    "    R_H = 1\n",
    "    C_H = 1e-6\n",
    "    ######## TODO END   ########\n",
    "    return (1j * w * R_H * C_H) / ((1 + (1j * w * R_L * C_L)) * (1 + (1j * w * R_H * C_H)))\n",
    "\n",
    "plot_tf(H_color_organ, (-1, 8), phase=True)"
   ],
   "outputs": [],
   "metadata": {}
  },
  {
   "cell_type": "code",
   "execution_count": null,
   "source": [
    "# find filter response at w = 1000 rad / s\n",
    "ans = H_color_organ(1000)\n",
    "print(f'magnitude is {np.abs(ans):.3e}')\n",
    "phase = np.angle(ans)\n",
    "print(f'phase is {phase:.3f} radians = {phase * 180 / np.pi:.1f} degrees')"
   ],
   "outputs": [],
   "metadata": {}
  },
  {
   "cell_type": "markdown",
   "source": [
    "# 7c: RLC filter"
   ],
   "metadata": {}
  },
  {
   "cell_type": "markdown",
   "source": [
    "Populate the **TODO** in this method to return the transfer function that you derived in part 7c. Remember to use `1j` when your transfer function has a $j$."
   ],
   "metadata": {}
  },
  {
   "cell_type": "code",
   "execution_count": null,
   "source": [
    "# Define the transfer function from 7c\n",
    "def H_7c(w, R, L, C):\n",
    "    ######## TODO START ########\n",
    "    return w\n",
    "    ######## TODO END   ########"
   ],
   "outputs": [],
   "metadata": {}
  },
  {
   "cell_type": "markdown",
   "source": [
    "**Overdamped**"
   ],
   "metadata": {}
  },
  {
   "cell_type": "code",
   "execution_count": null,
   "source": [
    "# Define the transfer function from 7c for the OVERDAMPED case\n",
    "def H_7c_overdamped(w):\n",
    "    R = 1e3\n",
    "    L = 25e-6\n",
    "    C = 10e-9\n",
    "    return H_7c(w, R, L, C)\n",
    "\n",
    "plot_tf(H_7c_overdamped, (2, 10), phase=True)"
   ],
   "outputs": [],
   "metadata": {}
  },
  {
   "cell_type": "markdown",
   "source": [
    "**Underdamped**"
   ],
   "metadata": {}
  },
  {
   "cell_type": "code",
   "execution_count": null,
   "source": [
    "# Define the transfer function from 7c for the UNDERDAMPED case\n",
    "def H_7c_underdamped(w):\n",
    "    R = 1\n",
    "    L = 25e-6\n",
    "    C = 10e-9\n",
    "    return H_7c(w, R, L, C)\n",
    "    \n",
    "\n",
    "plot_tf(H_7c_underdamped, (2, 10), phase=True)"
   ],
   "outputs": [],
   "metadata": {}
  },
  {
   "cell_type": "markdown",
   "source": [
    "**Critically Damped**"
   ],
   "metadata": {}
  },
  {
   "cell_type": "code",
   "execution_count": null,
   "source": [
    "#Define the transfer function from 7c for the CRITICALLY DAMPED case\n",
    "def H_7c_crit(w):\n",
    "    L = 25e-6\n",
    "    C = 10e-9\n",
    "    R = 2 * np.sqrt(L / C)\n",
    "    return H_7c(w, R, L, C)\n",
    "    \n",
    "\n",
    "plot_tf(H_7c_crit, (2, 10), phase=True)"
   ],
   "outputs": [],
   "metadata": {}
  }
 ],
 "metadata": {
  "kernelspec": {
   "display_name": "Python 3 (ipykernel)",
   "language": "python",
   "name": "python3"
  },
  "language_info": {
   "codemirror_mode": {
    "name": "ipython",
    "version": 3
   },
   "file_extension": ".py",
   "mimetype": "text/x-python",
   "name": "python",
   "nbconvert_exporter": "python",
   "pygments_lexer": "ipython3",
   "version": "3.8.10"
  }
 },
 "nbformat": 4,
 "nbformat_minor": 2
}