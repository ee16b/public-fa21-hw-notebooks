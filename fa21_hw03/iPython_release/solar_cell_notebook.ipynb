{
 "cells": [
  {
   "cell_type": "markdown",
   "metadata": {},
   "source": [
    "# A toy model for a solar cell\n",
    "\n",
    "### EECS 16B: Designing Information Devices and Systems II"
   ]
  },
  {
   "cell_type": "markdown",
   "metadata": {},
   "source": [
    "# Motivation\n",
    "\n",
    "In this python exercise we will show how the solution to our simplified solar cell can model the charge distribution and how it is affected by the recombination term in the more realistic solution."
   ]
  },
  {
   "cell_type": "code",
   "execution_count": null,
   "metadata": {},
   "outputs": [],
   "source": [
    "# Imports\n",
    "%matplotlib notebook\n",
    "from ipywidgets import interactive, widgets\n",
    "import matplotlib.pyplot as plt\n",
    "import numpy as np"
   ]
  },
  {
   "cell_type": "code",
   "execution_count": null,
   "metadata": {},
   "outputs": [],
   "source": [
    "# Set display settings\n",
    "from IPython.display import display, HTML\n",
    "js = \"\"\"<script>\n",
    "IPython.notebook.kernel.execute(\"cell_width_px=\"+($( \".cell\").width()))\n",
    "</script>\"\"\"\n",
    "display(HTML(js))\n",
    "dx = 0.1\n",
    "height = 10"
   ]
  },
  {
   "cell_type": "markdown",
   "metadata": {},
   "source": [
    "# Plotting our solution for (d)\n",
    "First, add your solution to part (d) as the function $q_d (x)$. Note that this function should be in terms of $x$ as well as the parameters $\\ell$ and $q_0$. Then, the interactive plot below shows the effect of the parameters $q_0$ and $\\ell$ on the solution. See the block below the plots for more information."
   ]
  },
  {
   "cell_type": "code",
   "execution_count": null,
   "metadata": {},
   "outputs": [],
   "source": [
    "# Add your function for q(x) from part (d) here\n",
    "def q_d(x, l, q0):\n",
    "    return ?"
   ]
  },
  {
   "cell_type": "code",
   "execution_count": null,
   "metadata": {},
   "outputs": [],
   "source": [
    "# Set up figure\n",
    "fig, (ax1, ax2) = plt.subplots(2,1, sharex=True, figsize=(cell_width_px / 100, 3))\n",
    "plt.suptitle(\"$q(x)$\")\n",
    "plt.xlabel(\"$x$\")\n",
    "plt.xticks(np.linspace(0, 100 / dx, int(1 / dx) + 1, endpoint=True), np.arange(0, 101, 10))\n",
    "\n",
    "# Plot lines\n",
    "l = 50\n",
    "q0 = 5.0\n",
    "x1 = np.linspace(0, 100, int(100 / dx) + 1, endpoint=True)\n",
    "line, = ax1.plot(x1[:int(l / dx)] / dx, q_d(x1, l, q0)[:int(l / dx)], color=\"b\")\n",
    "ax1.set_ylim(0, 10)\n",
    "ax1.set_xlim(-1, 100 / dx + 1)\n",
    "bound = ax1.vlines(l / dx, 0, height, color=\"r\")\n",
    "ax1.legend([line, bound], [\"$q(x)$\", \"$x = \\ell$\"], bbox_to_anchor=(1.15, 0.5), loc='center right')\n",
    "\n",
    "# Plot heatmap\n",
    "x2 = np.repeat(x1[None, :], height, axis=0)\n",
    "im = ax2.imshow(q_d(x2, l, q0), cmap=plt.cm.jet, aspect=10.)\n",
    "bound2 = ax2.vlines(l / dx, 0, height, color=\"r\")\n",
    "ax2.set_ylim(0,height-1)\n",
    "im.set_clim(0.0, 10.0)\n",
    "ax2.set_yticks([])\n",
    "\n",
    "# Add colorbar\n",
    "fig.subplots_adjust(right=0.8)\n",
    "cbar_ax = fig.add_axes([0.82, 0.16, 0.02, 0.25])\n",
    "fig.colorbar(im, ax=ax2, cax=cbar_ax)\n",
    "\n",
    "# Main update function for interactive plot\n",
    "def update(l=50, q0=5.0):\n",
    "    line.set_data(x1[:int(l / dx)] / dx, q_d(x1, l, q0)[:int(l / dx)])\n",
    "    im.set_data(q_d(x2, l, q0))\n",
    "    bound.set_segments([np.array([[l / dx, 0],[l / dx, height]])])\n",
    "    bound2.set_segments([np.array([[l / dx, 0],[l / dx, height]])])\n",
    "    fig.canvas.draw_idle()\n",
    "    \n",
    "\n",
    "# Include sliders for relevant quantities\n",
    "interactive_plot = interactive(update, \n",
    "                               l=widgets.IntSlider(value=50, min=10, max=100, step=5, description=\"$\\ell$\"), \n",
    "                               q0=widgets.FloatSlider(value=5.0, min=0.0, max=10.0, step=0.1, description=\"$q_0$\"))\n",
    "output = interactive_plot.children[-1]\n",
    "interactive_plot"
   ]
  },
  {
   "cell_type": "markdown",
   "metadata": {},
   "source": [
    "Both plots show the same information, but in two different ways. The top plot is a line plot that directly shows $q(x)$ as a function of $x$. The bottom plot is a heatmap that models the amount of charge at a certain distance $x$ (similar to the diagram in the problem, redder values indicate more charge). The vertical red line represents $x = \\ell$ in both plots."
   ]
  },
  {
   "cell_type": "markdown",
   "metadata": {},
   "source": [
    "# Plotting our solution for (g)\n",
    "A solution for part (g) is given in the code below as the function $q_f (x)$. Similarly to above, there are two interactive plots that show the effects of $\\ell$, $q_0$, and $K_2 / K$ on the amount of charge across $x$. See the text below the plot for more information."
   ]
  },
  {
   "cell_type": "code",
   "execution_count": null,
   "metadata": {},
   "outputs": [],
   "source": [
    "# Define relevant q(x) quantities for interactive plotting (part (f))\n",
    "def q_f_pos(x, q0, K2_div_K):\n",
    "    return -q0 * np.exp(x * np.sqrt(K2_div_K))\n",
    "\n",
    "def q_f_neg(x, q0, K2_div_K):\n",
    "    return q0 * np.exp(-x * np.sqrt(K2_div_K))\n",
    "\n",
    "def q_f_a_pos(l, K2_div_K):\n",
    "    beta = np.exp(-2 * l * np.sqrt(K2_div_K))\n",
    "    return beta / (1 - beta)\n",
    "\n",
    "def q_f_a_neg(l, K2_div_K):\n",
    "    beta = np.exp(-2 * l * np.sqrt(K2_div_K))\n",
    "    return 1 / (1 - beta)\n",
    "\n",
    "def q_f(x, l, q0, K2_div_K):\n",
    "    beta = np.exp(-2 * l * np.sqrt(K2_div_K))\n",
    "    return q0 * (np.exp(-x * np.sqrt(K2_div_K)) - beta * np.exp(x * np.sqrt(K2_div_K))) / (1 - beta)"
   ]
  },
  {
   "cell_type": "code",
   "execution_count": null,
   "metadata": {},
   "outputs": [],
   "source": [
    "# Setup figure\n",
    "fig, (ax1, ax2) = plt.subplots(2,1, sharex=True, figsize=(cell_width_px / 100, 3))\n",
    "plt.suptitle(\"$q(x)$\")\n",
    "plt.xlabel(\"$x$\")\n",
    "plt.xticks(np.linspace(0, 100 / dx, int(1 / dx) + 1, endpoint=True), np.arange(0, 101, 10))\n",
    "\n",
    "# Plot lines\n",
    "K2_div_K = 1e-3\n",
    "x1 = np.linspace(0, 100, num=int(100 / dx) + 1, endpoint=True)\n",
    "alpha_pos = max(min(abs(q_f_a_pos(l, K2_div_K)), 1), 0.3)\n",
    "alpha_neg = max(min(abs(q_f_a_neg(l, K2_div_K)), 1), 0.3)\n",
    "line_pos, = ax1.plot(x1[:int(l / dx)] / dx, q_f_pos(x1, q0, K2_div_K)[:int(l / dx)], color=\"g\", alpha=alpha_pos)\n",
    "line_neg, = ax1.plot(x1[:int(l / dx)] / dx, q_f_neg(x1, q0, K2_div_K)[:int(l / dx)], color=\"m\", alpha=alpha_neg)\n",
    "line, = ax1.plot(x1[:int(l / dx)] / dx, q_f(x1, l, q0, K2_div_K)[:int(l / dx)], color=\"b\")\n",
    "ax1.set_ylim(-20, 20)\n",
    "ax1.set_xlim(-1, 100 / dx + 1)\n",
    "bound = ax1.vlines(l / dx, -20, 20, color=\"r\")\n",
    "ax1.legend([line_pos, line_neg, line, bound], [\"$q_+(x)$\", \"$q_-(x)$\", \"$q(x)$\", \"$x = \\ell$\"])\n",
    "\n",
    "# Plot heatmap\n",
    "x2 = np.repeat(x1[None, :], height, axis=0)\n",
    "im = ax2.imshow(q_f(x2, l, q0, K2_div_K), cmap=plt.cm.jet, aspect=10.)\n",
    "bound2 = ax2.vlines(l / dx, 0, height, color=\"r\")\n",
    "ax2.set_ylim(0,height-1)\n",
    "im.set_clim(0.0, 10.0)\n",
    "ax2.set_yticks([])\n",
    "\n",
    "# Add colorbar\n",
    "fig.subplots_adjust(right=0.8)\n",
    "cbar_ax = fig.add_axes([0.82, 0.15, 0.03, 0.25])\n",
    "fig.colorbar(im, ax=ax2, cax=cbar_ax)\n",
    "\n",
    "# Main update loop for interactive plot\n",
    "def update(l=50, q0=5.0, K2_div_K=1e-3):\n",
    "    line_pos.set_data(x1[:int(l / dx)] / dx, q_f_pos(x1, q0, K2_div_K)[:int(l / dx)])\n",
    "    alpha_pos = max(min(abs(q_f_a_pos(l, K2_div_K)), 1), 0.3)\n",
    "    line_pos.set_alpha(alpha_pos)\n",
    "    line_neg.set_data(x1[:int(l / dx)] / dx, q_f_neg(x1, q0, K2_div_K)[:int(l / dx)])\n",
    "    alpha_neg = max(min(abs(q_f_a_neg(l, K2_div_K)), 1), 0.3)\n",
    "    line_neg.set_alpha(alpha_neg)\n",
    "    line.set_data(x1[:int(l / dx)] / dx, q_f(x1, l, q0, K2_div_K)[:int(l / dx)])\n",
    "    ax1.legend([line_pos, line_neg, line, bound], [\"$q_+(x)$\", \"$q_-(x)$\", \"$q(x)$\", \"$x = \\ell$\"], bbox_to_anchor=(1.15, 0.5), loc='center right')\n",
    "    im.set_data(q_f(x2, l, q0, K2_div_K))\n",
    "    bound.set_segments([np.array([[l / dx, -20],[l / dx, 20]])])\n",
    "    bound2.set_segments([np.array([[l / dx, 0],[l / dx, height]])])\n",
    "    fig.canvas.draw_idle()\n",
    "    \n",
    "\n",
    "# Include sliders for relevant quantities\n",
    "interactive_plot = interactive(update, \n",
    "                               l=widgets.IntSlider(value=50, min=10, max=100, step=5, description=\"$\\ell$\"), \n",
    "                               q0=widgets.FloatSlider(value=5.0, min=0.0, max=10.0, step=0.1, description=\"$q_0$\"),\n",
    "                               K2_div_K=widgets.FloatLogSlider(value=1e-3, \n",
    "                                                               base=10, \n",
    "                                                               min=-6, \n",
    "                                                               max=1.5, \n",
    "                                                               step=0.25, \n",
    "                                                               description='$K_2/K$'))\n",
    "output = interactive_plot.children[-1]\n",
    "interactive_plot"
   ]
  },
  {
   "cell_type": "markdown",
   "metadata": {},
   "source": [
    "The line plots show the contributions from the positive exponential term (labeled $q_+(x)$ in green) and the negative exponential term (labeled $q_-(x)$ in purple). Each line is given an alpha value based on the size of its $\\alpha$ weighting term (lighter colors mean that that term is contributing less to the overall solution). The blue line is the weighted sum of the two contributing terms. As before, the heatmap shows the same visualization using color, with redder colors indicating more charge at that value. What do you notice as you change $K_2 / K$? What happens when $K_2 / K \\approx 0$? How do the contributions from each term change as you change each quantity?"
   ]
  }
 ],
 "metadata": {
  "interpreter": {
   "hash": "ef8991bf9dc5a17e71cb4b9649f15773d8db47a7d6c367fbccf7c6e53d25aef5"
  },
  "kernelspec": {
   "display_name": "Python 3",
   "language": "python",
   "name": "python3"
  },
  "language_info": {
   "codemirror_mode": {
    "name": "ipython",
    "version": 3
   },
   "file_extension": ".py",
   "mimetype": "text/x-python",
   "name": "python",
   "nbconvert_exporter": "python",
   "pygments_lexer": "ipython3",
   "version": "3.8.3"
  }
 },
 "nbformat": 4,
 "nbformat_minor": 5
}
